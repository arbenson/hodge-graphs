{
 "cells": [
  {
   "cell_type": "code",
   "execution_count": 1,
   "metadata": {
    "collapsed": false,
    "jupyter": {
     "outputs_hidden": false
    }
   },
   "outputs": [
    {
     "data": {
      "text/plain": [
       "SparseMatrixCSC{Float64, Int64}"
      ]
     },
     "execution_count": 1,
     "metadata": {},
     "output_type": "execute_result"
    }
   ],
   "source": [
    "# Julia 1.11.6\n",
    "using Combinatorics\n",
    "using IterativeSolvers  # for LSQR\n",
    "using SparseArrays     # Required for SparseMatrixCSC in Julia 1.0+\n",
    "using LinearAlgebra    # For triu function\n",
    "const IntMat = SparseMatrixCSC{Float64,Int64}\n",
    "const FloatMat = SparseMatrixCSC{Float64,Int64}\n"
   ]
  },
  {
   "cell_type": "code",
   "execution_count": 2,
   "metadata": {},
   "outputs": [
    {
     "data": {
      "text/plain": [
       "spones (generic function with 1 method)"
      ]
     },
     "execution_count": 2,
     "metadata": {},
     "output_type": "execute_result"
    }
   ],
   "source": [
    "# spones has been removed by Julia 1.11.6\n",
    "function spones(A::SparseMatrixCSC)\n",
    "    I, J, V = findnz(A)\n",
    "    return sparse(I, J, ones(eltype(A), length(V)), size(A)...)\n",
    "end"
   ]
  },
  {
   "cell_type": "code",
   "execution_count": 3,
   "metadata": {
    "collapsed": false,
    "jupyter": {
     "outputs_hidden": false
    }
   },
   "outputs": [
    {
     "data": {
      "text/plain": [
       "read_paj_sparse (generic function with 1 method)"
      ]
     },
     "execution_count": 3,
     "metadata": {},
     "output_type": "execute_result"
    }
   ],
   "source": [
    "# function to read .paj files (THANKS BRAD NELSON for writing this!)\n",
    "function read_paj_sparse(fname::AbstractString)\n",
    "    n = 0\n",
    "    local A, I, J, V\n",
    "    local labels\n",
    "    open(fname) do f\n",
    "        # get number of vertices                                                                                                                                                     \n",
    "        while true\n",
    "            line = readline(f)\n",
    "            if length(line) > 8 && line[1:9] == \"*vertices\"\n",
    "                n = parse(Int64, line[10:end])\n",
    "                break\n",
    "            end\n",
    "        end\n",
    "        # get labels                                                                                                                                                                 \n",
    "        labels = Array{String}(undef, n)\n",
    "        while true\n",
    "            line = readline(f)\n",
    "            if length(line) >=9 && line[1:9] == \"*vertices\"; break; end\n",
    "        end\n",
    "        for i = 1:n\n",
    "            line = readline(f)\n",
    "            labels[i] = line[7:end-1]\n",
    "        end\n",
    "        # get edges                                                                                                                                                                  \n",
    "        I, J, V = Int64[], Int64[], Float64[]\n",
    "        while true\n",
    "            line = readline(f)\n",
    "            if length(line) > 4 && line[1:5] == \"*arcs\"; break; end\n",
    "        end\n",
    "        while true\n",
    "            line = readline(f)\n",
    "            if length(line) < 2; break; end\n",
    "            (is, js, vs) = split(line)\n",
    "            push!(I, parse(Int64, is))\n",
    "            push!(J, parse(Int64, js))\n",
    "            push!(V, parse(Float64, vs))\n",
    "        end\n",
    "    end\n",
    "    A = convert(FloatMat, sparse(I, J, V, n, n))\n",
    "    return (A, labels)\n",
    "end\n"
   ]
  },
  {
   "cell_type": "code",
   "execution_count": 4,
   "metadata": {
    "collapsed": false,
    "jupyter": {
     "outputs_hidden": false
    }
   },
   "outputs": [
    {
     "data": {
      "text/plain": [
       "grad_mat (generic function with 1 method)"
      ]
     },
     "execution_count": 4,
     "metadata": {},
     "output_type": "execute_result"
    }
   ],
   "source": [
    "# gradient matrix from graph adjacency matrix\n",
    "# returns gradient matrix and map of edges to indices 1, 2, ..., #edges\n",
    "function grad_mat(A::FloatMat)\n",
    "    edge_map = Dict{NTuple{2, Int64}, Int64}()\n",
    "    I, J, V = Int64[], Int64[], Int64[]\n",
    "    curr_edge_ind = 1\n",
    "    num_vertices = size(A, 2)\n",
    "    for j in 1:num_vertices, i in findall(!iszero, A[:,j])\n",
    "        # Force alternating function by ordering edges\n",
    "        if i < j\n",
    "            edge_map[(i, j)] = curr_edge_ind\n",
    "            push!(I, curr_edge_ind, curr_edge_ind)\n",
    "            push!(J, i, j)\n",
    "            push!(V, -1, 1)\n",
    "            curr_edge_ind += 1\n",
    "        end\n",
    "    end\n",
    "    grad = convert(FloatMat, sparse(I, J, V, length(edge_map), num_vertices))\n",
    "    return (grad, edge_map)\n",
    "end"
   ]
  },
  {
   "cell_type": "code",
   "execution_count": 5,
   "metadata": {
    "collapsed": false,
    "jupyter": {
     "outputs_hidden": false
    }
   },
   "outputs": [
    {
     "data": {
      "text/plain": [
       "curl_mat (generic function with 1 method)"
      ]
     },
     "execution_count": 5,
     "metadata": {},
     "output_type": "execute_result"
    }
   ],
   "source": [
    "# curl matrix from graph adjacency matrix\n",
    "# edge_map takes (i, j) --> index 1, 2, ..., #edges\n",
    "function curl_mat(A::FloatMat, edge_map::Dict{NTuple{2, Int64}, Int64})\n",
    "    num_vertices = size(A, 2)\n",
    "    # ordering of nodes by degree\n",
    "    deg_order = zeros(Int64, num_vertices)\n",
    "    deg_order[sortperm(vec(sum(spones(A), dims=1)))] = collect(1:num_vertices)\n",
    "    tri_map = Dict{NTuple{3, Int64}, Int64}()\n",
    "    curr_tri_ind = 1\n",
    "    I, J, V = Int64[], Int64[], Int64[]\n",
    "    for i in 1:num_vertices\n",
    "        pos = deg_order[i]\n",
    "        # Keep neighbors with larger degree\n",
    "        neighbors = filter(v -> deg_order[v] > pos, findall(!iszero, A[:, i]))\n",
    "        for (j, k) in combinations(neighbors, 2)\n",
    "            if A[j, k] > 0.0\n",
    "                # triangle {i, j, k}\n",
    "                a, b, c = sort([i, j, k])\n",
    "                tri_map[(a, b, c)] = curr_tri_ind\n",
    "                push!(I, curr_tri_ind, curr_tri_ind, curr_tri_ind)\n",
    "                push!(J, edge_map[(a, b)], edge_map[(a, c)], edge_map[(b, c)])\n",
    "                push!(V, 1, -1, 1)\n",
    "                curr_tri_ind += 1\n",
    "            end\n",
    "        end\n",
    "    end\n",
    "    curl = convert(FloatMat, sparse(I, J, V, length(tri_map), length(edge_map)))\n",
    "    return (curl, tri_map)\n",
    "end"
   ]
  },
  {
   "cell_type": "code",
   "execution_count": 6,
   "metadata": {
    "collapsed": false,
    "jupyter": {
     "outputs_hidden": false
    }
   },
   "outputs": [
    {
     "data": {
      "text/plain": [
       "hodge_decomp (generic function with 1 method)"
      ]
     },
     "execution_count": 6,
     "metadata": {},
     "output_type": "execute_result"
    }
   ],
   "source": [
    "# Hodge decomposition for an edge flow on a graph\n",
    "# returns node potential f, curl component Φ, and Harmonic component X_H\n",
    "# such that X = gradf + X_H + curl'Φ\n",
    "function hodge_decomp(X::Vector{Float64}, grad::FloatMat, curl::FloatMat)\n",
    "    @assert size(grad, 1) == length(X) == size(curl, 2)\n",
    "    f = lsqr(grad, X; atol=1e-10, btol=1e-10, conlim=1e12)\n",
    "    Φ = lsqr(curl', X; atol=1e-10, btol=1e-10, conlim=1e12)\n",
    "    X_H = X - curl' * Φ - grad * f\n",
    "    return (f, Φ, X_H)\n",
    "end"
   ]
  },
  {
   "cell_type": "code",
   "execution_count": 7,
   "metadata": {
    "collapsed": false,
    "jupyter": {
     "outputs_hidden": false
    }
   },
   "outputs": [
    {
     "name": "stdout",
     "output_type": "stream",
     "text": [
      "  0.085907 seconds (348.23 k allocations: 18.870 MiB, 3.51% gc time, 97.61% compilation time)\n",
      "  0.015451 seconds (6.97 k allocations: 1.331 MiB, 98.94% compilation time)\n",
      "  0.001662 seconds (73.61 k allocations: 6.682 MiB)\n",
      "min(curl grad) = 0.0, max(curl grad) = 0.0\n"
     ]
    }
   ],
   "source": [
    "# read data\n",
    "@time A, labels = read_paj_sparse(\"Florida.paj\")\n",
    "\n",
    "# form gradient and curl matrices\n",
    "Asym = max.(A, A') # symmetrize A to be undirected graph\n",
    "@time (grad, edge_map) = grad_mat(Asym)\n",
    "@time (curl, tri_map) = curl_mat(Asym, edge_map)\n",
    "\n",
    "# sanity check: make sure A * B = 0\n",
    "curlgrad = curl * grad\n",
    "println(\"min(curl grad) = $(minimum(curlgrad)), max(curl grad) = $(maximum(curlgrad))\")"
   ]
  },
  {
   "cell_type": "code",
   "execution_count": 8,
   "metadata": {
    "collapsed": false,
    "jupyter": {
     "outputs_hidden": false
    }
   },
   "outputs": [
    {
     "name": "stdout",
     "output_type": "stream",
     "text": [
      "  0.108612 seconds (301.50 k allocations: 16.062 MiB, 2.29% gc time, 99.88% compilation time)\n",
      "  0.236136 seconds (424.73 k allocations: 42.667 MiB, 11.67% gc time, 96.70% compilation time)\n",
      "(x1' * x2, x1' * X_H, x2' * X_H) = (6.547712976453023e-13, 2.367350969452149e-9, 5.977096864765869e-7)\n"
     ]
    },
    {
     "data": {
      "text/plain": [
       "(6.547712976453023e-13, 2.367350969452149e-9, 5.977096864765869e-7)"
      ]
     },
     "execution_count": 8,
     "metadata": {},
     "output_type": "execute_result"
    }
   ],
   "source": [
    "# form an edge from upper triangular part of matrix and ordering of edges\n",
    "function edge_flow(T::FloatMat, edge_map::Dict{NTuple{2, Int64}, Int64})\n",
    "    X = zeros(length(edge_map))\n",
    "    B = triu(T, 1)\n",
    "    for j in 1:size(B, 2), i in findall(!iszero, B[:,j])\n",
    "        X[edge_map[(i, j)]] = B[i, j]\n",
    "    end\n",
    "    return X\n",
    "end\n",
    "\n",
    "@time X = edge_flow(A - A', edge_map) # takes asymmetry into account\n",
    "\n",
    "# decompose edge flow \n",
    "@time (f, Φ, X_H) = hodge_decomp(X, grad, curl)\n",
    "\n",
    "# sanity check: are our components orthogonal?\n",
    "x1 = grad * f\n",
    "x2 = curl' * Φ\n",
    "@show x1' * x2, x1' * X_H, x2' * X_H\n"
   ]
  },
  {
   "cell_type": "code",
   "execution_count": 9,
   "metadata": {
    "collapsed": false,
    "jupyter": {
     "outputs_hidden": false
    }
   },
   "outputs": [
    {
     "name": "stdout",
     "output_type": "stream",
     "text": [
      "ranking[1:5] = [\"Respiration\", \"Mackerel\", \"Predatory Crabs\", \"Brotalus\", \"Lizardfish\"]\n",
      "ranking[end - 4:end] = [\"Oscillatoria\", \"Drift Algae\", \"DOC\", \"Roots\", \"Input\"]\n",
      "frac_potential = 0.10523817822463569\n"
     ]
    },
    {
     "data": {
      "text/plain": [
       "0.10523817822463569"
      ]
     },
     "execution_count": 9,
     "metadata": {},
     "output_type": "execute_result"
    }
   ],
   "source": [
    "# get potential function ranking\n",
    "ranking = labels[sortperm(f, rev=true)]\n",
    "@show ranking[1:5]\n",
    "@show ranking[end-4:end]\n",
    "\n",
    "# how much of norm due to gradient potential?\n",
    "frac_potential = norm(grad * f, 2)^2 / norm(X, 2)^2\n",
    "@show frac_potential"
   ]
  },
  {
   "cell_type": "code",
   "execution_count": 10,
   "metadata": {
    "collapsed": false,
    "jupyter": {
     "outputs_hidden": false
    }
   },
   "outputs": [
    {
     "name": "stdout",
     "output_type": "stream",
     "text": [
      "  0.008895 seconds (1.48 k allocations: 21.550 MiB, 18.92% gc time)\n",
      "ranking[1:5] = [\"Raptors\", \"Output\", \"Crocodiles\", \"Respiration\", \"Dolphin\"]\n",
      "ranking[end - 4:end] = [\"Synedococcus\", \"2um Spherical Phytoplankt\", \"Benthic Phytoplankton\", \"Small Diatoms (<20um)\", \"Input\"]\n",
      "frac_potential = 0.7872575994111707\n"
     ]
    },
    {
     "data": {
      "text/plain": [
       "0.7872575994111707"
      ]
     },
     "execution_count": 10,
     "metadata": {},
     "output_type": "execute_result"
    }
   ],
   "source": [
    "# only consider sign of edge\n",
    "X = edge_flow(sign.(A - A'), edge_map)\n",
    "@time (f, Φ, X_H) = hodge_decomp(X, grad, curl)\n",
    "# get potential function ranking\n",
    "ranking = labels[sortperm(f, rev=true)]\n",
    "@show ranking[1:5]\n",
    "@show ranking[end-4:end]\n",
    "frac_potential = norm(grad * f, 2)^2 / norm(X, 2)^2\n",
    "@show frac_potential"
   ]
  },
  {
   "cell_type": "code",
   "execution_count": 11,
   "metadata": {
    "collapsed": false,
    "jupyter": {
     "outputs_hidden": false
    }
   },
   "outputs": [
    {
     "name": "stdout",
     "output_type": "stream",
     "text": [
      "  0.008015 seconds (1.48 k allocations: 21.550 MiB, 15.05% gc time)\n",
      "ranking[1:5] = [\"Raptors\", \"Output\", \"Crocodiles\", \"Respiration\", \"Dolphin\"]\n",
      "ranking[end - 4:end] = [\"2um Spherical Phytoplankt\", \"Synedococcus\", \"Benthic Phytoplankton\", \"Small Diatoms (<20um)\", \"Input\"]\n",
      "frac_potential = 0.7958274288086641\n"
     ]
    },
    {
     "data": {
      "text/plain": [
       "0.7958274288086641"
      ]
     },
     "execution_count": 11,
     "metadata": {},
     "output_type": "execute_result"
    }
   ],
   "source": [
    "# only consider asymmetric flows\n",
    "A1 = spones(A)\n",
    "B = A1 .* A1' # bi-directional flows\n",
    "U = A1 - B\n",
    "X = edge_flow(sign.(U - U'), edge_map)\n",
    "@time (f, Φ, X_H) = hodge_decomp(X, grad, curl)\n",
    "\n",
    "# get potential function ranking\n",
    "ranking = labels[sortperm(f, rev=true)]\n",
    "@show ranking[1:5]\n",
    "@show ranking[end-4:end]\n",
    "frac_potential = norm(grad * f, 2)^2 / norm(X, 2)^2\n",
    "@show frac_potential"
   ]
  },
  {
   "cell_type": "code",
   "execution_count": 12,
   "metadata": {
    "collapsed": false,
    "jupyter": {
     "outputs_hidden": false
    }
   },
   "outputs": [
    {
     "name": "stdout",
     "output_type": "stream",
     "text": [
      "labels[[ordered_tris[i]...]] = [\"Dinoflagellates\", \"Meroplankton\", \"Input\"]\n",
      "labels[[ordered_tris[i]...]] = [\"Meroplankton\", \"Water POC\", \"Input\"]\n",
      "labels[[ordered_tris[i]...]] = [\"Epiphytes\", \"Thor Floridanus\", \"Water POC\"]\n",
      "labels[[ordered_tris[i]...]] = [\"Oscillatoria\", \"Echinoderma\", \"Parrotfish\"]\n",
      "labels[[ordered_tris[i]...]] = [\"Coral\", \"Parrotfish\", \"Respiration\"]\n"
     ]
    }
   ],
   "source": [
    "# find inconsistent triangles\n",
    "ordered_tris = sort(collect(keys(tri_map)), by=(k -> Φ[tri_map[k]]), rev=true)\n",
    "for i = 1:5\n",
    "    @show labels[[ordered_tris[i]...]]\n",
    "end\n"
   ]
  },
  {
   "cell_type": "code",
   "execution_count": 13,
   "metadata": {
    "collapsed": false,
    "jupyter": {
     "outputs_hidden": false
    }
   },
   "outputs": [
    {
     "name": "stdout",
     "output_type": "stream",
     "text": [
      "labels[findall(!iszero, A[:, pf])] = [\"Synedococcus\", \"Oscillatoria\", \"Drift Algae\", \"Epiphytes\", \"Meiofauna\", \"Sponges\", \"Coral\", \"Echinoderma\", \"Bivalves\", \"Detritivorous Polychaetes\", \"Predatory Polychaetes\", \"Suspension Feeding Polych\", \"Macrobenthos\"]\n",
      "labels[findall(!iszero, A[pf, :])] = [\"Tarpon\", \"Barracuda\", \"Other Pelagic Fishes\", \"Loon\", \"Greeb\", \"Pelican\", \"Comorant\", \"Predatory Ducks\", \"Raptors\", \"Crocodiles\", \"Dolphin\", \"Water POC\", \"Output\", \"Respiration\"]\n"
     ]
    },
    {
     "data": {
      "text/plain": [
       "14-element Vector{String}:\n",
       " \"Tarpon\"\n",
       " \"Barracuda\"\n",
       " \"Other Pelagic Fishes\"\n",
       " \"Loon\"\n",
       " \"Greeb\"\n",
       " \"Pelican\"\n",
       " \"Comorant\"\n",
       " \"Predatory Ducks\"\n",
       " \"Raptors\"\n",
       " \"Crocodiles\"\n",
       " \"Dolphin\"\n",
       " \"Water POC\"\n",
       " \"Output\"\n",
       " \"Respiration\""
      ]
     },
     "execution_count": 13,
     "metadata": {},
     "output_type": "execute_result"
    }
   ],
   "source": [
    "pf = findfirst(x -> x == \"Parrotfish\", labels)\n",
    "@show labels[findall(!iszero, A[:,pf])]\n",
    "@show labels[findall(!iszero, A[pf,:])]\n"
   ]
  },
  {
   "cell_type": "code",
   "execution_count": 14,
   "metadata": {
    "collapsed": false,
    "jupyter": {
     "outputs_hidden": false
    }
   },
   "outputs": [
    {
     "name": "stdout",
     "output_type": "stream",
     "text": [
      "  0.000028 seconds (297 allocations: 98.812 KiB)\n",
      "  0.000072 seconds (2.97 k allocations: 322.781 KiB)\n",
      "  0.000154 seconds (711 allocations: 323.016 KiB)\n",
      "ranking[1:5] = [\"Output\", \"Respiration\", \"Sea lamprey\", \"Detritus\", \"Juv. Lake Trout\"]\n",
      "ranking[end - 4:end] = [\"Calanoids\", \"Flagellates\", \"Blue-greenGree\", \"Diatoms\", \"Input\"]\n",
      "frac_potential = 0.7025775654157067\n"
     ]
    },
    {
     "data": {
      "text/plain": [
       "0.7025775654157067"
      ]
     },
     "execution_count": 14,
     "metadata": {},
     "output_type": "execute_result"
    }
   ],
   "source": [
    "A, labels = read_paj_sparse(\"Michigan.paj\")\n",
    "Asym = max.(A, A') # symmetrize A to be undirected graph\n",
    "@time (grad, edge_map) = grad_mat(Asym)\n",
    "@time (curl, tri_map) = curl_mat(Asym, edge_map)\n",
    "\n",
    "# only consider asymmetric flows\n",
    "A1 = spones(A)\n",
    "B = A1 .* A1' # bi-directional flows\n",
    "U = A1 - B\n",
    "X = edge_flow(sign.(U - U'), edge_map)\n",
    "@time (f, Φ, X_H) = hodge_decomp(X, grad, curl)\n",
    "\n",
    "# get potential function ranking\n",
    "ranking = labels[sortperm(f, rev=true)]\n",
    "@show ranking[1:5]\n",
    "@show ranking[end-4:end]\n",
    "frac_potential = norm(grad * f, 2)^2 / norm(X, 2)^2\n",
    "@show frac_potential\n"
   ]
  },
  {
   "cell_type": "code",
   "execution_count": null,
   "metadata": {},
   "outputs": [],
   "source": []
  }
 ],
 "metadata": {
  "kernelspec": {
   "display_name": "Julia 1.11.6",
   "language": "julia",
   "name": "julia-1.11"
  },
  "language_info": {
   "file_extension": ".jl",
   "mimetype": "application/julia",
   "name": "julia",
   "version": "1.11.6"
  }
 },
 "nbformat": 4,
 "nbformat_minor": 4
}
